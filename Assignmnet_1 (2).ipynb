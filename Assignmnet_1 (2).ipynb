{
 "cells": [
  {
   "cell_type": "markdown",
   "id": "3ee0be18",
   "metadata": {},
   "source": [
    "### Name : Assies Qureshi\n"
   ]
  },
  {
   "cell_type": "markdown",
   "id": "d48c2afb",
   "metadata": {},
   "source": [
    "# ASSIGNMENT NO # 1:"
   ]
  },
  {
   "cell_type": "markdown",
   "id": "4c927b19",
   "metadata": {},
   "source": [
    "### Task # 1"
   ]
  },
  {
   "cell_type": "code",
   "execution_count": 2,
   "id": "6f8c1e22",
   "metadata": {},
   "outputs": [
    {
     "name": "stdout",
     "output_type": "stream",
     "text": [
      "OUTPUT :\n",
      "\tTwinkle,  twinkle,  little  star,\n",
      "\t\tHow  I  Wonder  What You  are !\n",
      "\t\t\t Up above the world so high, \n",
      "\t\t\t Like a diamond in the sky.\n",
      "\n",
      "\tTwinkle,  twinkle,  little  star,\n",
      "\t\t How  I  Wonder  What You  are  \n"
     ]
    }
   ],
   "source": [
    "print(\"OUTPUT :\")\n",
    "#CODE:\n",
    "print(\"\\tTwinkle,  twinkle,  little  star,\\n\\t\\tHow  I  Wonder  What You  are !\\n\\t\\t\\t Up above the world so high, \\n\\t\\t\\t Like a diamond in the sky.\\n\\n\\tTwinkle,  twinkle,  little  star,\\n\\t\\t How  I  Wonder  What You  are  \")"
   ]
  },
  {
   "cell_type": "markdown",
   "id": "39499604",
   "metadata": {},
   "source": [
    "# Task # 2"
   ]
  },
  {
   "cell_type": "code",
   "execution_count": 2,
   "id": "3fd687e1",
   "metadata": {},
   "outputs": [
    {
     "name": "stdout",
     "output_type": "stream",
     "text": [
      "OUTPUT :\n",
      "\tPython Version : 3.8.8 (default, Apr 13 2021, 15:08:03) [MSC v.1916 64 bit (AMD64)]\n"
     ]
    }
   ],
   "source": [
    "print(\"OUTPUT :\")\n",
    "#CODE:\n",
    "import sys\n",
    "ver = sys.version\n",
    "print(f\"\\tPython Version : {ver}\")"
   ]
  },
  {
   "cell_type": "markdown",
   "id": "64879cb1",
   "metadata": {},
   "source": [
    "# Task # 3"
   ]
  },
  {
   "cell_type": "code",
   "execution_count": 1,
   "id": "75e563bd",
   "metadata": {},
   "outputs": [
    {
     "name": "stdout",
     "output_type": "stream",
     "text": [
      "OUTPUT :\n",
      "\tCurrent Date And Time: \t2021-12-29 10:39:10.429064\n"
     ]
    }
   ],
   "source": [
    "print(\"OUTPUT :\")\n",
    "#CODE:\n",
    "import datetime\n",
    "today= datetime.datetime.now()\n",
    "print(f\"\\tCurrent Date And Time: \\t{today}\")"
   ]
  },
  {
   "cell_type": "markdown",
   "id": "3beb11bc",
   "metadata": {},
   "source": [
    "# Task # 4"
   ]
  },
  {
   "cell_type": "code",
   "execution_count": 3,
   "id": "c8532be3",
   "metadata": {},
   "outputs": [
    {
     "name": "stdout",
     "output_type": "stream",
     "text": [
      "OUTPUT :\n",
      "\tEnter The Radius To Find The Area:45\n",
      "\tRadius is : 45 \n",
      "\tArea is :141.3\n"
     ]
    }
   ],
   "source": [
    "print(\"OUTPUT :\")\n",
    "#CODE:\n",
    "radius=int(input(\"\\tEnter The Radius To Find The Area:\"))\n",
    "pi=3.14\n",
    "Area=radius*pi\n",
    "print(f\"\\tRadius is : {radius} \\n\\tArea is :{Area}\")"
   ]
  },
  {
   "cell_type": "markdown",
   "id": "952652e1",
   "metadata": {},
   "source": [
    "# Task # 5"
   ]
  },
  {
   "cell_type": "code",
   "execution_count": 32,
   "id": "06a95fb9",
   "metadata": {},
   "outputs": [
    {
     "name": "stdout",
     "output_type": "stream",
     "text": [
      "OUTPUT :\n",
      "\tEnter The First Name :Muhammad Zubair\n",
      "\tEnter The Last Name :Minhas\n",
      "\tThe User Name is  :  Muhammad Zubair Minhas\n",
      "\tThe User Name in Reverse Order:  sahniM riabuZ dammahuM\n"
     ]
    }
   ],
   "source": [
    "print(\"OUTPUT :\")\n",
    "#CODE:\n",
    "First_Name=input(\"\\tEnter The First Name :\")\n",
    "Last_Name=input(\"\\tEnter The Last Name :\")\n",
    "Full_Name=First_Name+\" \"+Last_Name\n",
    "print(\"\\tThe User Name is  : \",Full_Name)\n",
    "print(\"\\tThe User Name in Reverse Order: \",Full_Name[::-1])"
   ]
  },
  {
   "cell_type": "markdown",
   "id": "17d56af8",
   "metadata": {},
   "source": [
    "# Task # 6"
   ]
  },
  {
   "cell_type": "code",
   "execution_count": 4,
   "id": "b29bf7c9",
   "metadata": {},
   "outputs": [
    {
     "name": "stdout",
     "output_type": "stream",
     "text": [
      "OUTPUT :\n",
      "\tEnter The Value of First Number :23\n",
      "\tEnter The Value Of Second Number :22\n",
      "\tThe Addition of 23 and 22 is : 45\n"
     ]
    }
   ],
   "source": [
    "print(\"OUTPUT :\")\n",
    "#CODE:\n",
    "a=int(input(\"\\tEnter The Value of First Number :\"))\n",
    "b=int(input(\"\\tEnter The Value Of Second Number :\"))\n",
    "c=a+b\n",
    "print(f\"\\tThe Addition of {a} and {b} is : {c}\")"
   ]
  },
  {
   "cell_type": "code",
   "execution_count": null,
   "id": "507ec690",
   "metadata": {},
   "outputs": [],
   "source": []
  }
 ],
 "metadata": {
  "kernelspec": {
   "display_name": "Python 3",
   "language": "python",
   "name": "python3"
  },
  "language_info": {
   "codemirror_mode": {
    "name": "ipython",
    "version": 3
   },
   "file_extension": ".py",
   "mimetype": "text/x-python",
   "name": "python",
   "nbconvert_exporter": "python",
   "pygments_lexer": "ipython3",
   "version": "3.8.8"
  }
 },
 "nbformat": 4,
 "nbformat_minor": 5
}
